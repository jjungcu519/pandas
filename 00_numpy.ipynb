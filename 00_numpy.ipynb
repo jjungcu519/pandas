{
 "cells": [
  {
   "cell_type": "markdown",
   "id": "018bc904-a2eb-4430-ad28-4d8133ef3964",
   "metadata": {},
   "source": [
    "# 1. Numpy: 행렬계산특화친구"
   ]
  },
  {
   "cell_type": "code",
   "execution_count": 1,
   "id": "41fc9052-2fe6-4489-8bdf-682d41a1e530",
   "metadata": {},
   "outputs": [],
   "source": [
    "import numpy as np #이름변경 > 닉넴"
   ]
  },
  {
   "cell_type": "code",
   "execution_count": 2,
   "id": "1f51ab22-27ef-4773-9583-0cb62e469f73",
   "metadata": {},
   "outputs": [],
   "source": [
    "my_arr = np.arange(1000000) #arr = list\n",
    "my_list = list(range(1000000))"
   ]
  },
  {
   "cell_type": "code",
   "execution_count": 3,
   "id": "37b148ef-e43f-4300-9363-7af4ff922b1a",
   "metadata": {},
   "outputs": [
    {
     "name": "stdout",
     "output_type": "stream",
     "text": [
      "2.1 ms ± 83 μs per loop (mean ± std. dev. of 7 runs, 100 loops each)\n",
      "47.2 ms ± 816 μs per loop (mean ± std. dev. of 7 runs, 10 loops each)\n"
     ]
    }
   ],
   "source": [
    "%timeit my_arr2 = my_arr * 2 #속도가 빠루다\n",
    "%timeit my_list2 = [ s * 2 for s in my_list]"
   ]
  },
  {
   "cell_type": "code",
   "execution_count": 4,
   "id": "48832920-1ab7-4ce9-993c-83fe972bce4f",
   "metadata": {},
   "outputs": [
    {
     "name": "stdout",
     "output_type": "stream",
     "text": [
      "[[   5.     1.1   -5. ]\n",
      " [ 123.  -123.     0. ]]\n"
     ]
    }
   ],
   "source": [
    "a = [\n",
    "    [5, 1.1, -5],\n",
    "    [123, -123, 0]\n",
    "]\n",
    "data = np.array(a)\n",
    "print(data)"
   ]
  },
  {
   "cell_type": "code",
   "execution_count": 6,
   "id": "16c3f767-b873-4f8f-b887-9b9e747f4a00",
   "metadata": {},
   "outputs": [
    {
     "name": "stdout",
     "output_type": "stream",
     "text": [
      "[[   50.    11.   -50.]\n",
      " [ 1230. -1230.     0.]]\n",
      "[[  10.     2.2  -10. ]\n",
      " [ 246.  -246.     0. ]]\n"
     ]
    }
   ],
   "source": [
    "print(data *10)\n",
    "print(data + data)"
   ]
  },
  {
   "cell_type": "code",
   "execution_count": 7,
   "id": "42859078-bbf7-4178-9a65-c56058537d33",
   "metadata": {},
   "outputs": [
    {
     "name": "stdout",
     "output_type": "stream",
     "text": [
      "(2, 3)\n",
      "float64\n"
     ]
    }
   ],
   "source": [
    "print(data.shape) #2행3열\n",
    "print(data.dtype) #데이터타입"
   ]
  },
  {
   "cell_type": "markdown",
   "id": "9de36e34-5827-4d89-92aa-8bc3a31ccd93",
   "metadata": {},
   "source": [
    "## 1.1 ndarray 생성"
   ]
  },
  {
   "cell_type": "code",
   "execution_count": 13,
   "id": "0ef10ca3-3244-493e-863a-12977ad9a7c4",
   "metadata": {},
   "outputs": [
    {
     "name": "stdout",
     "output_type": "stream",
     "text": [
      "[4.  1.  2.  6.  3.1]\n"
     ]
    }
   ],
   "source": [
    "my_list = [4, 1, 2, 6, 3.1]\n",
    "arr = np.array(my_list)\n",
    "print(arr)"
   ]
  },
  {
   "cell_type": "code",
   "execution_count": 14,
   "id": "e2cc007e-63fa-43b4-bee0-0ce981f737d0",
   "metadata": {},
   "outputs": [
    {
     "name": "stdout",
     "output_type": "stream",
     "text": [
      "[[1 2 3 4]\n",
      " [5 6 7 8]]\n"
     ]
    }
   ],
   "source": [
    "my_list2 = [\n",
    "    [1, 2, 3, 4],\n",
    "    [5, 6, 7, 8]\n",
    "]\n",
    "\n",
    "arr2 = np.array(my_list2)\n",
    "print(arr2)"
   ]
  },
  {
   "cell_type": "code",
   "execution_count": 15,
   "id": "8ab465f9-5f8d-4516-b3ea-994b8a558b46",
   "metadata": {},
   "outputs": [
    {
     "name": "stdout",
     "output_type": "stream",
     "text": [
      "float64\n",
      "int64\n"
     ]
    }
   ],
   "source": [
    "print(arr.dtype)\n",
    "print(arr2.dtype) #64비트=천경...ㄷㄷㄷ 히익"
   ]
  },
  {
   "cell_type": "code",
   "execution_count": 17,
   "id": "e050f52e-2a2c-412a-9e7b-8bd8fa16f1d3",
   "metadata": {},
   "outputs": [
    {
     "name": "stdout",
     "output_type": "stream",
     "text": [
      "2\n",
      "1\n"
     ]
    }
   ],
   "source": [
    "print(arr2.ndim) #차원을 물어봄 -> 1차원인지 2차원인지\n",
    "print(arr.ndim)"
   ]
  },
  {
   "cell_type": "code",
   "execution_count": 18,
   "id": "5ee5cb67-d7f5-493e-99aa-12c90fd5c341",
   "metadata": {},
   "outputs": [
    {
     "name": "stdout",
     "output_type": "stream",
     "text": [
      "(5,)\n",
      "(2, 4)\n"
     ]
    }
   ],
   "source": [
    "print(arr.shape)\n",
    "print(arr2.shape)"
   ]
  },
  {
   "cell_type": "code",
   "execution_count": 22,
   "id": "c9f00089-5619-4edb-81db-f264f0297e35",
   "metadata": {},
   "outputs": [
    {
     "name": "stdout",
     "output_type": "stream",
     "text": [
      "[0. 0. 0. 0. 0. 0. 0. 0. 0. 0.]\n",
      "[[0. 0. 0. 0. 0.]\n",
      " [0. 0. 0. 0. 0.]\n",
      " [0. 0. 0. 0. 0.]\n",
      " [0. 0. 0. 0. 0.]\n",
      " [0. 0. 0. 0. 0.]]\n",
      "[[[6.23042070e-307 4.67296746e-307 1.69121096e-306 9.45694586e-308]\n",
      "  [9.34577196e-307 1.37962456e-306 3.22647253e-307 7.56601165e-307]\n",
      "  [1.69118787e-306 1.33511290e-306 1.11258854e-306 1.11261502e-306]]\n",
      "\n",
      " [[1.42410839e-306 7.56597770e-307 6.23059726e-307 1.78022342e-306]\n",
      "  [6.23058028e-307 9.34608432e-307 1.78020848e-306 8.45593934e-307]\n",
      "  [9.34611148e-307 1.24610994e-306 2.22522596e-306 2.22522596e-306]]]\n"
     ]
    }
   ],
   "source": [
    "print(np.zeros(10)) #0이 n개 채워진 배열을 만들어 줌.\n",
    "print(np.zeros((5, 5))) #튜플형태\n",
    "print(np.empty((2,3,4))) #난수생성?"
   ]
  },
  {
   "cell_type": "code",
   "execution_count": 23,
   "id": "8b980c7b-b7af-4f2d-8bb4-7164b5daebf0",
   "metadata": {},
   "outputs": [
    {
     "name": "stdout",
     "output_type": "stream",
     "text": [
      "[ 0  1  2  3  4  5  6  7  8  9 10 11]\n"
     ]
    }
   ],
   "source": [
    "print(np.arange(12))"
   ]
  },
  {
   "cell_type": "markdown",
   "id": "cb83b002-60ab-4b7d-bf70-083ab67208cf",
   "metadata": {},
   "source": [
    "## 1.2 자료형"
   ]
  },
  {
   "cell_type": "code",
   "execution_count": 26,
   "id": "22953719-49d0-4006-ba33-6f2f1fef8a14",
   "metadata": {},
   "outputs": [
    {
     "name": "stdout",
     "output_type": "stream",
     "text": [
      "float64\n",
      "int32\n"
     ]
    }
   ],
   "source": [
    "arr1 = np.array([1, 2, 3], dtype=np.float64)\n",
    "arr2 = np.array([1, 2, 3], dtype=np.int32)\n",
    "\n",
    "print(arr1.dtype)\n",
    "print(arr2.dtype)"
   ]
  },
  {
   "cell_type": "code",
   "execution_count": 27,
   "id": "f3af14eb-8513-40bd-b97a-c5922a2fd940",
   "metadata": {},
   "outputs": [
    {
     "name": "stdout",
     "output_type": "stream",
     "text": [
      "[1 2 3 4 5]\n",
      "[1. 2. 3. 4. 5.]\n",
      "float32\n"
     ]
    }
   ],
   "source": [
    "arr = np.array([1, 2, 3, 4, 5])\n",
    "print(arr)\n",
    "float_arr = arr.astype(np.float32) #위랑다른게 뭐지\n",
    "print(float_arr)\n",
    "print(float_arr.dtype)"
   ]
  },
  {
   "cell_type": "code",
   "execution_count": 28,
   "id": "d8f39990-36c0-4464-bbf8-9083f7247b09",
   "metadata": {},
   "outputs": [
    {
     "name": "stdout",
     "output_type": "stream",
     "text": [
      "[ 1  2  3 -1 -2 -3]\n"
     ]
    }
   ],
   "source": [
    "arr = np.array([1.1, 2.2, 3.3, -1.1, -2.2, -3.3])\n",
    "result = arr.astype(np.int32) #값할당과 동시에 선언\n",
    "print(result)"
   ]
  },
  {
   "cell_type": "code",
   "execution_count": 30,
   "id": "464c11f2-b5fb-4897-90e5-a57c4e07eb01",
   "metadata": {},
   "outputs": [
    {
     "name": "stdout",
     "output_type": "stream",
     "text": [
      "[12 34 56]\n"
     ]
    }
   ],
   "source": [
    "result = np.array(['12', '34', '56'], dtype=np.int32)\n",
    "print(result)"
   ]
  },
  {
   "cell_type": "markdown",
   "id": "e0bcc9c4-891f-46bb-94b3-0afa144484cc",
   "metadata": {},
   "source": [
    "## 1.3 연산 "
   ]
  },
  {
   "cell_type": "code",
   "execution_count": 31,
   "id": "a8c5a425-6036-40df-8125-fd9fcdb5da5c",
   "metadata": {},
   "outputs": [],
   "source": [
    "a = [\n",
    "    [1, 2, 3, 4],\n",
    "    [5, 6, 7, 8]\n",
    "]\n",
    "arr = np.array(a)"
   ]
  },
  {
   "cell_type": "code",
   "execution_count": 37,
   "id": "887e2d98-76e3-4cab-9596-3cefccd51157",
   "metadata": {},
   "outputs": [
    {
     "name": "stdout",
     "output_type": "stream",
     "text": [
      "[[1 2 3 4]\n",
      " [5 6 7 8]]\n",
      "[[ 2  4  6  8]\n",
      " [10 12 14 16]]\n",
      "[[-1 -2 -3 -4]\n",
      " [-5 -6 -7 -8]]\n",
      "[[0.1 0.2 0.3 0.4]\n",
      " [0.5 0.6 0.7 0.8]]\n",
      "[[ 1  4  9 16]\n",
      " [25 36 49 64]]\n"
     ]
    }
   ],
   "source": [
    "print(arr)\n",
    "print(arr + arr)\n",
    "print(arr - (2 * arr))\n",
    "print(arr / 10)\n",
    "print(arr ** 2)"
   ]
  },
  {
   "cell_type": "code",
   "execution_count": 40,
   "id": "68bf602e-6ab1-4479-8ede-e666c40b07f1",
   "metadata": {},
   "outputs": [
    {
     "name": "stdout",
     "output_type": "stream",
     "text": [
      "[[1 2 3 4]\n",
      " [5 6 7 8]]\n",
      "[[3 2 1 0]\n",
      " [6 5 4 3]]\n",
      "[[False False  True  True]\n",
      " [False  True  True  True]]\n"
     ]
    }
   ],
   "source": [
    "b = [\n",
    "    [3, 2, 1, 0],\n",
    "    [6, 5, 4, 3]\n",
    "]\n",
    "arr2 = np.array(b)\n",
    "\n",
    "print(arr)\n",
    "print(arr2)\n",
    "print(arr > arr2)"
   ]
  },
  {
   "cell_type": "markdown",
   "id": "2d2c1659-fa89-4cc0-9ca7-53640c23d90f",
   "metadata": {},
   "source": [
    "## 1.4 인덱싱, 슬라이싱"
   ]
  },
  {
   "cell_type": "code",
   "execution_count": 101,
   "id": "539e6735-21b2-477c-a484-edd13e2f7f44",
   "metadata": {},
   "outputs": [
    {
     "name": "stdout",
     "output_type": "stream",
     "text": [
      "[0 1 2 3 4 5 6 7 8 9]\n",
      "5\n",
      "[3 4 5]\n",
      "[ 0  1  2 99 99 99  6  7  8  9]\n"
     ]
    }
   ],
   "source": [
    "arr = np.arange(10)\n",
    "print(arr)\n",
    "print(arr[5])\n",
    "print(arr[3:6])\n",
    "\n",
    "arr[3:6] = 99\n",
    "print(arr)"
   ]
  },
  {
   "cell_type": "code",
   "execution_count": 102,
   "id": "a07e866b-4133-437a-8b0e-324136f27e17",
   "metadata": {},
   "outputs": [
    {
     "name": "stdout",
     "output_type": "stream",
     "text": [
      "[99 99 99]\n"
     ]
    }
   ],
   "source": [
    "slice_arr = arr[3:6]\n",
    "print(slice_arr)"
   ]
  },
  {
   "cell_type": "code",
   "execution_count": 103,
   "id": "76db5324-1ae8-4c77-9875-7099db63cdd1",
   "metadata": {},
   "outputs": [
    {
     "name": "stdout",
     "output_type": "stream",
     "text": [
      "[99 55 99]\n",
      "[ 0  1  2 99 55 99  6  7  8  9]\n"
     ]
    }
   ],
   "source": [
    "slice_arr[1] = 55\n",
    "print(slice_arr)\n",
    "print(arr)"
   ]
  },
  {
   "cell_type": "code",
   "execution_count": 104,
   "id": "9075813f-82b1-43d7-9cbc-46b6b30cf0cd",
   "metadata": {},
   "outputs": [
    {
     "name": "stdout",
     "output_type": "stream",
     "text": [
      "[  0   1   2 100 100 100   6   7   8   9]\n"
     ]
    }
   ],
   "source": [
    "slice_arr[:] = 100\n",
    "print(arr)"
   ]
  },
  {
   "cell_type": "code",
   "execution_count": 105,
   "id": "d00460ef-94a5-4ebc-91e1-b4f664263ca0",
   "metadata": {},
   "outputs": [],
   "source": [
    "a = [\n",
    "    [1, 2, 3],\n",
    "    [4, 5, 6],\n",
    "    [7, 8, 9]\n",
    "]\n",
    "arr = np.array(a)"
   ]
  },
  {
   "cell_type": "code",
   "execution_count": 106,
   "id": "1bf82af2-d2e1-4962-a7ee-cf8900911edf",
   "metadata": {},
   "outputs": [
    {
     "name": "stdout",
     "output_type": "stream",
     "text": [
      "5\n",
      "5\n"
     ]
    }
   ],
   "source": [
    "#동일 기능\n",
    "print(arr[1][1])\n",
    "print(arr[1, 1])"
   ]
  },
  {
   "cell_type": "code",
   "execution_count": 107,
   "id": "027d503d-0286-48b7-8727-f1641948d220",
   "metadata": {},
   "outputs": [
    {
     "name": "stdout",
     "output_type": "stream",
     "text": [
      "[[[ 1  2  3]\n",
      "  [ 4  5  6]]\n",
      "\n",
      " [[ 7  8  9]\n",
      "  [10 11 12]]]\n"
     ]
    }
   ],
   "source": [
    "a = [\n",
    "        [\n",
    "            [1, 2, 3],\n",
    "            [4, 5, 6]\n",
    "        ],\n",
    "        [\n",
    "            [7, 8, 9],\n",
    "            [10, 11, 12]\n",
    "        ]\n",
    "]\n",
    "\n",
    "arr = np.array(a)\n",
    "print(arr)"
   ]
  },
  {
   "cell_type": "code",
   "execution_count": 108,
   "id": "dfe35af0-ea49-49c4-a8b9-20fef8ab1c69",
   "metadata": {},
   "outputs": [
    {
     "name": "stdout",
     "output_type": "stream",
     "text": [
      "[[1 2 3]\n",
      " [4 5 6]]\n",
      "[1 2 3]\n",
      "1\n"
     ]
    }
   ],
   "source": [
    "print(arr[0])\n",
    "print(arr[0][0])\n",
    "print(arr[0][0][0])"
   ]
  },
  {
   "cell_type": "code",
   "execution_count": 109,
   "id": "a90d92fe-6173-46f7-99ef-4fdc8047ff8e",
   "metadata": {},
   "outputs": [
    {
     "name": "stdout",
     "output_type": "stream",
     "text": [
      "[0 1 2 3 4 5 6 7 8 9]\n",
      "[1 2 3 4 5]\n"
     ]
    },
    {
     "data": {
      "text/plain": [
       "array([1, 2, 3, 4, 5, 6, 7, 8, 9])"
      ]
     },
     "execution_count": 109,
     "metadata": {},
     "output_type": "execute_result"
    }
   ],
   "source": [
    "arr = np.arange(10)\n",
    "print(arr)\n",
    "print(arr[1:6])\n",
    "arr[1:]"
   ]
  },
  {
   "cell_type": "code",
   "execution_count": 110,
   "id": "a0523af6-5749-40c1-8314-b8555663a9be",
   "metadata": {},
   "outputs": [
    {
     "name": "stdout",
     "output_type": "stream",
     "text": [
      "[[0 1 2]\n",
      " [3 4 5]\n",
      " [6 7 8]]\n"
     ]
    },
    {
     "data": {
      "text/plain": [
       "array([[0, 1, 2],\n",
       "       [3, 4, 5]])"
      ]
     },
     "execution_count": 110,
     "metadata": {},
     "output_type": "execute_result"
    }
   ],
   "source": [
    "arr2d = np.arange(9).reshape(3,3) #내가 원하는 모양으로 바꿔줘.\n",
    "print(arr2d)\n",
    "arr2d[:2]"
   ]
  },
  {
   "cell_type": "code",
   "execution_count": 111,
   "id": "5beb9243-7a87-484a-b965-b360f2cb21bf",
   "metadata": {},
   "outputs": [
    {
     "name": "stdout",
     "output_type": "stream",
     "text": [
      "[[1 2]\n",
      " [4 5]]\n",
      "[3 4]\n",
      "[[0]\n",
      " [3]\n",
      " [6]]\n"
     ]
    }
   ],
   "source": [
    "print(arr2d[:2,1:])\n",
    "print(arr2d[1, :2])\n",
    "print(arr2d[:3,:1])"
   ]
  },
  {
   "cell_type": "markdown",
   "id": "3d0e2a60-fb16-4de0-96b9-35e1a94a48eb",
   "metadata": {},
   "source": [
    "## 1.5 bool 값으로 선택"
   ]
  },
  {
   "cell_type": "code",
   "execution_count": 112,
   "id": "26223b8d-f1bc-4c10-8817-ce365b650473",
   "metadata": {},
   "outputs": [],
   "source": [
    "names = ['hong', 'kim', 'park', 'kim']\n",
    "scores = [\n",
    "    ['수학', 80],\n",
    "    ['영어', 80],\n",
    "    ['수학', 39],\n",
    "    ['수학', 72],\n",
    "]"
   ]
  },
  {
   "cell_type": "code",
   "execution_count": 113,
   "id": "334173f1-94c6-4c1e-9186-36d5edf93f74",
   "metadata": {},
   "outputs": [],
   "source": [
    "n_arr = np.array(names)\n",
    "s_arr = np.array(scores)"
   ]
  },
  {
   "cell_type": "code",
   "execution_count": 114,
   "id": "e6943235-9f7a-4f43-be07-d31caf07639a",
   "metadata": {},
   "outputs": [
    {
     "name": "stdout",
     "output_type": "stream",
     "text": [
      "['hong' 'kim' 'park' 'kim']\n",
      "[['수학' '80']\n",
      " ['영어' '80']\n",
      " ['수학' '39']\n",
      " ['수학' '72']]\n"
     ]
    }
   ],
   "source": [
    "print(n_arr)\n",
    "print(s_arr)"
   ]
  },
  {
   "cell_type": "code",
   "execution_count": 115,
   "id": "16f9cb70-d72d-4463-b095-d40445ca8b74",
   "metadata": {},
   "outputs": [
    {
     "data": {
      "text/plain": [
       "array([False, False,  True, False])"
      ]
     },
     "execution_count": 115,
     "metadata": {},
     "output_type": "execute_result"
    }
   ],
   "source": [
    "n_arr == 'park'"
   ]
  },
  {
   "cell_type": "code",
   "execution_count": 116,
   "id": "2dc1717f-dc34-4213-a59a-7d0f86df9ce9",
   "metadata": {},
   "outputs": [
    {
     "data": {
      "text/plain": [
       "array([['수학', '39']], dtype='<U21')"
      ]
     },
     "execution_count": 116,
     "metadata": {},
     "output_type": "execute_result"
    }
   ],
   "source": [
    "s_arr[n_arr == 'park']"
   ]
  },
  {
   "cell_type": "code",
   "execution_count": 117,
   "id": "cfb00d16-bf27-4582-bfba-163ca31d6e1c",
   "metadata": {},
   "outputs": [
    {
     "name": "stdout",
     "output_type": "stream",
     "text": [
      "[['영어' '80']\n",
      " ['수학' '72']]\n",
      "[['80']\n",
      " ['72']]\n"
     ]
    }
   ],
   "source": [
    "print(s_arr[n_arr == 'kim'])\n",
    "print(s_arr[n_arr == 'kim', 1:])"
   ]
  },
  {
   "cell_type": "code",
   "execution_count": 118,
   "id": "1678e139-5a72-46cc-9529-607c0ce08a41",
   "metadata": {},
   "outputs": [
    {
     "name": "stdout",
     "output_type": "stream",
     "text": [
      "['영어' '수학']\n",
      "['80' '72']\n"
     ]
    }
   ],
   "source": [
    "print(s_arr[n_arr == 'kim', 0])\n",
    "print(s_arr[n_arr == 'kim', 1])"
   ]
  },
  {
   "cell_type": "code",
   "execution_count": 119,
   "id": "44f5ff54-5c65-44a7-96c5-5f115a982a3a",
   "metadata": {},
   "outputs": [
    {
     "name": "stdout",
     "output_type": "stream",
     "text": [
      "[ True False  True False]\n",
      "[ True False  True False]\n"
     ]
    }
   ],
   "source": [
    "print(n_arr != 'kim')\n",
    "print(~(n_arr == 'kim'))"
   ]
  },
  {
   "cell_type": "code",
   "execution_count": 120,
   "id": "18f5976f-a2c7-4376-a436-19ee2c0b0991",
   "metadata": {},
   "outputs": [
    {
     "data": {
      "text/plain": [
       "array([['수학', '80']], dtype='<U21')"
      ]
     },
     "execution_count": 120,
     "metadata": {},
     "output_type": "execute_result"
    }
   ],
   "source": [
    "cond = n_arr == 'hong'\n",
    "s_arr[cond]"
   ]
  },
  {
   "cell_type": "code",
   "execution_count": 121,
   "id": "c6709ad4-c70a-45d9-b34c-2f49cc135e2f",
   "metadata": {},
   "outputs": [
    {
     "data": {
      "text/plain": [
       "array([['영어', '80'],\n",
       "       ['수학', '39'],\n",
       "       ['수학', '72']], dtype='<U21')"
      ]
     },
     "execution_count": 121,
     "metadata": {},
     "output_type": "execute_result"
    }
   ],
   "source": [
    "cond = (n_arr == 'kim') | (n_arr == 'park')\n",
    "s_arr[cond]"
   ]
  },
  {
   "cell_type": "markdown",
   "id": "40afb9e0-10f5-45a0-8a20-3c669b18c03a",
   "metadata": {},
   "source": [
    "## 1.6 팬시 인덱싱 (fancy indexing)"
   ]
  },
  {
   "cell_type": "code",
   "execution_count": 126,
   "id": "7bbaa56a-497e-42a2-bbc0-9f40b9c345fd",
   "metadata": {},
   "outputs": [
    {
     "name": "stdout",
     "output_type": "stream",
     "text": [
      "[[ 0  1  2  3]\n",
      " [ 4  5  6  7]\n",
      " [ 8  9 10 11]\n",
      " [12 13 14 15]\n",
      " [16 17 18 19]\n",
      " [20 21 22 23]\n",
      " [24 25 26 27]\n",
      " [28 29 30 31]]\n"
     ]
    }
   ],
   "source": [
    "arr = np.arange(32).reshape(8, 4)\n",
    "print(arr)"
   ]
  },
  {
   "cell_type": "code",
   "execution_count": 127,
   "id": "6886e7e4-be5d-45b8-bbd1-069810d2eeff",
   "metadata": {},
   "outputs": [
    {
     "name": "stdout",
     "output_type": "stream",
     "text": [
      "[[ 0  1  2  3]\n",
      " [12 13 14 15]]\n"
     ]
    }
   ],
   "source": [
    "#cf.대괄호를 쓴다는것 -> 인덱싱 or 슬라이싱 한다는 뜻?\n",
    "print(arr[[0,3]])"
   ]
  },
  {
   "cell_type": "code",
   "execution_count": 128,
   "id": "2b83fc63-92b4-4231-a39d-6864ac174a54",
   "metadata": {},
   "outputs": [
    {
     "name": "stdout",
     "output_type": "stream",
     "text": [
      "[[20 21 22 23]\n",
      " [28 29 30 31]]\n"
     ]
    }
   ],
   "source": [
    "print(arr[[-3,-1]])"
   ]
  },
  {
   "cell_type": "code",
   "execution_count": 132,
   "id": "8e162f52-c894-4ff3-9b88-5dd285237918",
   "metadata": {},
   "outputs": [
    {
     "name": "stdout",
     "output_type": "stream",
     "text": [
      "[[  0   1   2   3]\n",
      " [  4 988   6   7]\n",
      " [  8   9 988  11]\n",
      " [ 12  13  14 988]\n",
      " [ 16  17  18  19]\n",
      " [ 20  21  22  23]\n",
      " [ 24  25  26  27]\n",
      " [ 28  29  30  31]]\n"
     ]
    }
   ],
   "source": [
    "arr[[3, 2, 1], [3, 2, 1]] = 988\n",
    "print(arr)"
   ]
  },
  {
   "cell_type": "markdown",
   "id": "753eb8de-233b-4130-bef3-eb317104fc31",
   "metadata": {},
   "source": [
    "## 1.7 전치"
   ]
  },
  {
   "cell_type": "code",
   "execution_count": 134,
   "id": "c86edebe-d766-4039-afc1-5dc57420d782",
   "metadata": {},
   "outputs": [
    {
     "name": "stdout",
     "output_type": "stream",
     "text": [
      "[[ 0  1  2  3  4]\n",
      " [ 5  6  7  8  9]\n",
      " [10 11 12 13 14]]\n",
      "[[ 0  5 10]\n",
      " [ 1  6 11]\n",
      " [ 2  7 12]\n",
      " [ 3  8 13]\n",
      " [ 4  9 14]]\n"
     ]
    }
   ],
   "source": [
    "arr = np.arange(15).reshape(3, 5)\n",
    "print(arr)\n",
    "print(arr.T)"
   ]
  },
  {
   "cell_type": "code",
   "execution_count": 136,
   "id": "5d8b8f28-77f7-4ef4-b807-d018aad59a87",
   "metadata": {},
   "outputs": [
    {
     "name": "stdout",
     "output_type": "stream",
     "text": [
      "[[ 30  80 130]\n",
      " [ 80 255 430]\n",
      " [130 430 730]]\n",
      "[[ 30  80 130]\n",
      " [ 80 255 430]\n",
      " [130 430 730]]\n"
     ]
    }
   ],
   "source": [
    "print(np.dot(arr, arr.T))\n",
    "print(arr @ arr.T) #머가 다르노"
   ]
  },
  {
   "cell_type": "markdown",
   "id": "5702b235-0cc6-4b03-9002-14ded02d286a",
   "metadata": {},
   "source": [
    "## 1.8 난수 생성"
   ]
  },
  {
   "cell_type": "code",
   "execution_count": 138,
   "id": "3d9cfdd5-0b58-43e6-bd7f-b2c61356a5b7",
   "metadata": {},
   "outputs": [
    {
     "name": "stdout",
     "output_type": "stream",
     "text": [
      "[[ 0.43526067 -0.14608046 -1.61176731  2.51249521]\n",
      " [-0.77906688 -0.16173098 -0.67164574 -0.14752576]\n",
      " [-1.99190775 -0.59431663 -0.03940645 -0.05466964]\n",
      " [-0.20974681 -0.18892871  0.17995147 -0.61489715]]\n"
     ]
    }
   ],
   "source": [
    "sample = np.random.standard_normal(size = (4,4)) #사이즈에 튜플을 넣는다.\n",
    "print(sample)"
   ]
  },
  {
   "cell_type": "code",
   "execution_count": 140,
   "id": "2d4aa193-88fd-4882-80dc-7e0b7900da02",
   "metadata": {},
   "outputs": [
    {
     "name": "stdout",
     "output_type": "stream",
     "text": [
      "[[0.65974288        nan        nan 1.58508524]\n",
      " [       nan        nan        nan        nan]\n",
      " [       nan        nan        nan        nan]\n",
      " [       nan        nan 0.42420687        nan]]\n"
     ]
    },
    {
     "name": "stderr",
     "output_type": "stream",
     "text": [
      "C:\\Users\\2-13\\AppData\\Local\\Temp\\ipykernel_15096\\2344619755.py:1: RuntimeWarning: invalid value encountered in sqrt\n",
      "  print(np.sqrt(sample))\n"
     ]
    }
   ],
   "source": [
    "print(np.sqrt(sample))"
   ]
  },
  {
   "cell_type": "code",
   "execution_count": 141,
   "id": "1ab1e6e5-e029-48fc-911d-d09447480dc4",
   "metadata": {},
   "outputs": [
    {
     "name": "stdout",
     "output_type": "stream",
     "text": [
      "[[0.43526067 0.14608046 1.61176731 2.51249521]\n",
      " [0.77906688 0.16173098 0.67164574 0.14752576]\n",
      " [1.99190775 0.59431663 0.03940645 0.05466964]\n",
      " [0.20974681 0.18892871 0.17995147 0.61489715]]\n"
     ]
    }
   ],
   "source": [
    "print(np.abs(sample))"
   ]
  },
  {
   "cell_type": "code",
   "execution_count": 145,
   "id": "8932404b-ccce-4109-902b-4d45c9355ebf",
   "metadata": {},
   "outputs": [
    {
     "name": "stderr",
     "output_type": "stream",
     "text": [
      "C:\\Users\\2-13\\AppData\\Local\\Temp\\ipykernel_15096\\619758985.py:1: RuntimeWarning: invalid value encountered in sqrt\n",
      "  np.isnan(np.sqrt(sample))\n"
     ]
    },
    {
     "data": {
      "text/plain": [
       "array([[False,  True,  True, False],\n",
       "       [ True,  True,  True,  True],\n",
       "       [ True,  True,  True,  True],\n",
       "       [ True,  True, False,  True]])"
      ]
     },
     "execution_count": 145,
     "metadata": {},
     "output_type": "execute_result"
    }
   ],
   "source": [
    "np.isnan(np.sqrt(sample))"
   ]
  },
  {
   "cell_type": "code",
   "execution_count": 161,
   "id": "bd750acb-14a5-4b83-9120-1e6da441e098",
   "metadata": {},
   "outputs": [
    {
     "name": "stdout",
     "output_type": "stream",
     "text": [
      "[ 0  1  2 ... -2 -3 -4]\n",
      "[0, 1, 2, 3, 4, 5, 4, 3, 2, 1, 0, 1, 0, 1, 0, -1, -2, -3, -2, -3, -4, -3, -4, -5, -6, -7, -8, -7, -6, -7, -6, -5, -4, -3, -4, -3, -4, -3, -4, -5, -6, -5, -4, -3, -2, -1, -2, -3, -4, -5, -4, -5, -4, -3, -4, -3, -2, -1, 0, 1, 0, 1, 0, 1, 2, 1, 0, 1, 0, -1, -2, -1, -2, -3, -4, -3, -4, -5, -6, -5, -4, -3, -4, -5, -4, -5, -6, -5, -6, -7, -8, -9, -8, -9, -8, -9, -8, -7, -8, -7, -8, -9, -8, -9, -8, -9, -10, -9, -10, -11, -12, -13, -12, -11, -12, -13, -12, -13, -14, -13, -12, -11, -12, -11, -12, -11, -10, -11, -10, -9, -10, -11, -10, -11, -10, -11, -12, -13, -14, -13, -14, -15, -14, -15, -16, -17, -16, -15, -14, -13, -14, -13, -12, -13, -14, -13, -12, -11, -10, -9, -10, -9, -8, -9, -10, -11, -10, -11, -10, -9, -10, -9, -8, -7, -8, -9, -8, -9, -10, -9, -10, -9, -10, -11, -12, -11, -12, -13, -14, -15, -16, -15, -14, -15, -14, -13, -12, -13, -14, -13, -12, -11, -12, -11, -12, -13, -12, -13, -14, -13, -14, -15, -14, -15, -16, -15, -14, -15, -14, -15, -14, -15, -14, -13, -14, -13, -14, -15, -14, -15, -16, -17, -18, -19, -20, -21, -22, -23, -22, -21, -20, -19, -18, -19, -20, -21, -22, -23, -24, -25, -24, -25, -24, -23, -22, -23, -22, -21, -22, -23, -22, -21, -22, -23, -24, -23, -22, -23, -24, -25, -26, -27, -26, -27, -28, -27, -28, -27, -26, -27, -28, -27, -28, -27, -26, -25, -26, -27, -26, -25, -24, -25, -26, -27, -28, -27, -28, -27, -26, -25, -26, -25, -26, -25, -26, -27, -26, -27, -26, -27, -28, -29, -28, -27, -26, -25, -26, -27, -28, -27, -26, -25, -26, -27, -28, -27, -26, -25, -26, -27, -28, -27, -28, -29, -28, -27, -26, -27, -28, -29, -30, -31, -30, -31, -30, -29, -30, -31, -32, -31, -30, -29, -28, -29, -28, -27, -26, -27, -26, -27, -26, -25, -26, -25, -26, -27, -26, -27, -26, -25, -24, -25, -24, -25, -24, -25, -26, -25, -24, -25, -26, -27, -28, -29, -28, -27, -28, -29, -28, -29, -30, -29, -30, -29, -30, -31, -32, -31, -30, -29, -30, -29, -28, -27, -26, -25, -26, -27, -28, -27, -28, -27, -28, -27, -26, -25, -24, -23, -22, -21, -20, -21, -20, -21, -20, -19, -18, -17, -16, -17, -18, -19, -18, -17, -16, -17, -18, -19, -20, -19, -18, -17, -18, -19, -20, -21, -20, -19, -18, -19, -18, -19, -20, -21, -20, -19, -20, -21, -22, -23, -22, -23, -24, -25, -24, -23, -22, -21, -20, -21, -22, -21, -20, -21, -20, -19, -20, -19, -18, -19, -18, -19, -20, -21, -22, -23, -24, -25, -26, -27, -28, -27, -28, -27, -28, -27, -28, -27, -26, -27, -26, -27, -26, -27, -28, -27, -28, -29, -30, -31, -30, -29, -30, -29, -30, -31, -32, -31, -30, -29, -30, -29, -30, -29, -28, -29, -30, -31, -32, -33, -32, -31, -30, -31, -30, -29, -28, -29, -28, -27, -28, -29, -28, -29, -28, -27, -26, -27, -28, -29, -28, -29, -28, -27, -26, -27, -28, -27, -28, -29, -30, -31, -30, -29, -28, -29, -28, -27, -26, -27, -28, -29, -28, -29, -30, -29, -28, -29, -30, -29, -30, -31, -32, -31, -30, -31, -30, -29, -30, -31, -32, -33, -34, -35, -34, -33, -32, -31, -30, -31, -30, -29, -28, -29, -30, -31, -32, -31, -30, -31, -32, -33, -32, -33, -32, -31, -30, -31, -32, -33, -34, -35, -36, -35, -34, -35, -34, -33, -32, -31, -30, -29, -28, -27, -26, -27, -28, -27, -26, -27, -28, -27, -28, -27, -28, -29, -28, -29, -28, -29, -28, -29, -30, -29, -30, -29, -30, -31, -30, -31, -30, -29, -30, -29, -28, -29, -28, -29, -28, -27, -26, -25, -24, -23, -24, -23, -24, -23, -24, -25, -24, -25, -24, -25, -26, -25, -24, -23, -22, -21, -20, -19, -18, -19, -20, -21, -22, -23, -22, -21, -22, -21, -22, -23, -22, -21, -20, -19, -18, -19, -18, -17, -16, -17, -18, -19, -20, -19, -20, -21, -20, -21, -22, -21, -22, -21, -20, -21, -20, -19, -20, -19, -18, -17, -18, -19, -18, -19, -18, -19, -18, -19, -20, -21, -20, -19, -20, -19, -18, -19, -20, -19, -18, -17, -18, -17, -16, -15, -14, -15, -14, -13, -12, -11, -10, -9, -8, -7, -8, -7, -8, -7, -6, -5, -6, -7, -8, -9, -10, -9, -8, -7, -6, -5, -4, -3, -2, -3, -2, -3, -4, -3, -4, -5, -6, -5, -6, -5, -4, -5, -4, -3, -2, -3, -4, -5, -4, -5, -6, -7, -6, -7, -6, -5, -6, -7, -8, -9, -8, -7, -8, -7, -6, -5, -4, -3, -2, -1, -2, -1, 0, -1, 0, 1, 2, 3, 4, 5, 6, 5, 4, 5, 6, 5, 6, 7, 6, 5, 4, 5, 6, 5, 4, 5, 6, 5, 4, 3, 2, 1, 2, 1, 0, 1, 2, 1, 0, -1, -2, -1, -2, -3, -4, -3, -4, -5, -4, -5, -4, -3, -2, -1, 0, 1, 0, -1, 0, 1, 2, 1, 2, 1, 0, 1, 0, -1, 0, 1, 2, 1, 0, -1, -2, -1, -2, -1, 0, -1, 0, -1, -2, -1, -2, -1, -2, -3, -4, -3, -4, -5, -6, -7, -6, -7, -6, -5, -6, -5, -4, -3, -4, -5, -4, -5, -4, -3, -2, -1, 0, -1, -2, -1, -2, -3, -4, -3, -2, -3, -4, -3, -2, -3, -4, -3, -2, -3, -4, -3, -2, -1, 0, 1, 2, 3, 4, 5, 4, 3, 4, 3, 2, 3, 2, 1, 0, -1, 0, 1, 0, -1, 0, 1, 0, -1, -2, -1, -2, -1, -2, -3, -4, -5, -4, -3, -4, -5, -4, -3, -2, -3, -4]\n"
     ]
    }
   ],
   "source": [
    "import random\n",
    "\n",
    "position = 0\n",
    "walk = [position]\n",
    "nsteps = 1000\n",
    "\n",
    "for _ in range(nsteps):\n",
    "    step = 1 if random.randint(0, 1) else -1\n",
    "    position += step\n",
    "    walk.append(position)\n",
    "\n",
    "walk_arr = np.array(walk)\n",
    "print(walk_arr)\n",
    "print(walk)"
   ]
  },
  {
   "cell_type": "markdown",
   "id": "0c45a41d-8cc2-4ffb-8489-e44459b7f80b",
   "metadata": {},
   "source": [
    "### matplotlib로 그래프 그리자 wow!"
   ]
  },
  {
   "cell_type": "code",
   "execution_count": 162,
   "id": "790a245d-cd27-41f4-b433-a890c4450f6b",
   "metadata": {},
   "outputs": [
    {
     "data": {
      "text/plain": [
       "<Figure size 640x480 with 0 Axes>"
      ]
     },
     "execution_count": 162,
     "metadata": {},
     "output_type": "execute_result"
    },
    {
     "data": {
      "text/plain": [
       "<Figure size 640x480 with 0 Axes>"
      ]
     },
     "metadata": {},
     "output_type": "display_data"
    }
   ],
   "source": [
    "import matplotlib.pyplot as plt\n",
    "plt.figure()"
   ]
  },
  {
   "cell_type": "code",
   "execution_count": 163,
   "id": "abf1c3fc-c3db-4bc3-96dd-24f3e81c25bf",
   "metadata": {},
   "outputs": [
    {
     "data": {
      "image/png": "[encoded data removed]",
      "text/plain": [
       "<Figure size 640x480 with 1 Axes>"
      ]
     },
     "metadata": {},
     "output_type": "display_data"
    }
   ],
   "source": [
    "plt.plot(walk_arr[:1000])\n",
    "plt.show() #wow~"
   ]
  },
  {
   "cell_type": "code",
   "execution_count": 164,
   "id": "28217f9e-5e4f-4416-bf6a-b802a08ae97d",
   "metadata": {},
   "outputs": [
    {
     "name": "stdout",
     "output_type": "stream",
     "text": [
      "7\n",
      "-36\n",
      "5\n"
     ]
    }
   ],
   "source": [
    "print(walk_arr[:1000].max())\n",
    "print(walk_arr[:1000].min())\n",
    "print((walk_arr[:1000] >= 5).argmax())"
   ]
  },
  {
   "cell_type": "code",
   "execution_count": null,
   "id": "dc165033-c273-46f0-b162-513cae4893b6",
   "metadata": {},
   "outputs": [],
   "source": []
  }
 ],
 "metadata": {
  "kernelspec": {
   "display_name": "Python 3 (ipykernel)",
   "language": "python",
   "name": "python3"
  },
  "language_info": {
   "codemirror_mode": {
    "name": "ipython",
    "version": 3
   },
   "file_extension": ".py",
   "mimetype": "text/x-python",
   "name": "python",
   "nbconvert_exporter": "python",
   "pygments_lexer": "ipython3",
   "version": "3.12.4"
  }
 },
 "nbformat": 4,
 "nbformat_minor": 5
}
